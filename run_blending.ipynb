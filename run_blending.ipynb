{
 "cells": [
  {
   "cell_type": "markdown",
   "metadata": {},
   "source": [
    "## Computing the Optimal Weights for Blending"
   ]
  },
  {
   "cell_type": "code",
   "execution_count": null,
   "metadata": {},
   "outputs": [],
   "source": [
    "%load_ext autoreload\n",
    "%autoreload 2"
   ]
  },
  {
   "cell_type": "markdown",
   "metadata": {},
   "source": [
    "Necessary imports:"
   ]
  },
  {
   "cell_type": "code",
   "execution_count": null,
   "metadata": {},
   "outputs": [],
   "source": [
    "import numpy as np\n",
    "from baselines import Baselines\n",
    "from MF_SGD import MF_SGD\n",
    "from MF_BSGD import MF_BSGD\n",
    "from MF_ALS import MF_ALS\n",
    "from surprise_models import SurpriseModels\n",
    "from blending import Blending\n",
    "from data import Data"
   ]
  },
  {
   "cell_type": "markdown",
   "metadata": {},
   "source": [
    "Set the random seed to be able to reproduce the results."
   ]
  },
  {
   "cell_type": "code",
   "execution_count": null,
   "metadata": {},
   "outputs": [],
   "source": [
    "np.random.seed(98)"
   ]
  },
  {
   "cell_type": "markdown",
   "metadata": {},
   "source": [
    "Load and prepare data."
   ]
  },
  {
   "cell_type": "code",
   "execution_count": null,
   "metadata": {},
   "outputs": [],
   "source": [
    "data = Data(test_purpose=True)"
   ]
  },
  {
   "cell_type": "markdown",
   "metadata": {},
   "source": [
    "Dictionary for the models to blend:"
   ]
  },
  {
   "cell_type": "code",
   "execution_count": null,
   "metadata": {},
   "outputs": [],
   "source": [
    "models = {'baseline_global_mean': None,\n",
    "          'baseline_user_mean': None,\n",
    "          'baseline_item_mean': None,\n",
    "          'mf_sgd': None,\n",
    "          'mf_bsgd': None, \n",
    "          'mf_als': None,\n",
    "          'surprise_kNN_baseline_user': None,\n",
    "          'surprise_kNN_baseline_item': None,\n",
    "#          'surprise_SVD': None,\n",
    "#          'surprise_SVDpp': None,\n",
    "          'surprise_slope_one': None,\n",
    "          'surprise_co_clustering': None}"
   ]
  },
  {
   "cell_type": "markdown",
   "metadata": {},
   "source": [
    "Run Baseline models."
   ]
  },
  {
   "cell_type": "code",
   "execution_count": null,
   "metadata": {},
   "outputs": [],
   "source": [
    "baselines = Baselines(data=data, test_purpose=True)\n",
    "\n",
    "print('\\nModelling using baseline_global_mean:')\n",
    "models['baseline_global_mean'] = baselines.baseline_global_mean()['Rating']\n",
    "\n",
    "print('\\nModelling using baseline_user_mean:')\n",
    "models['baseline_user_mean'] = baselines.baseline_user_mean()['Rating']\n",
    "\n",
    "print('\\nModelling using baseline_movie_mean:')\n",
    "models['baseline_item_mean'] = baselines.baseline_item_mean()['Rating']"
   ]
  },
  {
   "cell_type": "markdown",
   "metadata": {},
   "source": [
    "Run Matrix Factorization model trained using Stochastic Gradient Descent."
   ]
  },
  {
   "cell_type": "code",
   "execution_count": null,
   "metadata": {},
   "outputs": [],
   "source": [
    "mf_sgd = MF_SGD(data=data, test_purpose=True)\n",
    "\n",
    "print('\\nModelling using MF_SGD:')\n",
    "models['mf_sgd'] = mf_sgd.train()['Rating']"
   ]
  },
  {
   "cell_type": "markdown",
   "metadata": {},
   "source": [
    "Run Matrix Factorization model trained using Biased Stochastic Gradient Descent."
   ]
  },
  {
   "cell_type": "code",
   "execution_count": null,
   "metadata": {},
   "outputs": [],
   "source": [
    "mf_bsgd = MF_BSGD(data=data, test_purpose=True)\n",
    "\n",
    "print('\\nModelling using MF_BSGD:')\n",
    "models['mf_bsgd'] = mf_bsgd.train()['Rating']"
   ]
  },
  {
   "cell_type": "markdown",
   "metadata": {},
   "source": [
    "Run Matrix Factorization model trained using Alternating Least Squares."
   ]
  },
  {
   "cell_type": "code",
   "execution_count": null,
   "metadata": {},
   "outputs": [],
   "source": [
    "mf_als = MF_ALS(data=data, test_purpose=True)\n",
    "\n",
    "print('\\nModelling using MF_ALS:')\n",
    "models['mf_als'] = mf_als.train()['Rating']"
   ]
  },
  {
   "cell_type": "markdown",
   "metadata": {},
   "source": [
    "Run Models from Surprise Library."
   ]
  },
  {
   "cell_type": "code",
   "execution_count": null,
   "metadata": {},
   "outputs": [],
   "source": [
    "surprise_models = SurpriseModels(data=data, test_purpose=True)\n",
    "\n",
    "print('\\nModelling using user based Surprise kNN Baseline:')\n",
    "models['surprise_kNN_baseline_user'] = surprise_models.kNN_baseline(k=150, \n",
    "                                                                    sim_options={'name': 'cosine',\n",
    "                                                                                 'user_based': True})['Rating']\n",
    "\n",
    "print('\\nModelling using item based Surprise kNN Baseline:')\n",
    "models['surprise_kNN_baseline_item'] = surprise_models.kNN_baseline(k=150, \n",
    "                                                                    sim_options={'name': 'pearson_baseline',\n",
    "                                                                                 'user_based': False})['Rating']\n",
    "\n",
    "print('\\nModelling using Surprise SlopeOne:')\n",
    "models['surprise_slope_one'] = surprise_models.slope_one()['Rating']\n",
    "\n",
    "#print('\\nModelling using Surprise SVD:')\n",
    "#models['surprise_SVD'] = surprise_models.SVD()['Rating']\n",
    "\n",
    "#print('\\nModelling using Surprise SVD++:')\n",
    "#models['surprise_SVDpp'] = surprise_models.SVDpp()['Rating']\n",
    "\n",
    "print('\\nModelling using Surprise Co-Clustering:')\n",
    "models['surprise_co_clustering'] = surprise_models.co_clustering()['Rating']"
   ]
  },
  {
   "cell_type": "markdown",
   "metadata": {},
   "source": [
    "Run blending algorihtm to find the optimal weights for the resulting blended (combined) model."
   ]
  },
  {
   "cell_type": "code",
   "execution_count": null,
   "metadata": {},
   "outputs": [],
   "source": [
    "blending = Blending(models, data.test_df['Rating'])\n",
    "\n",
    "print('\\nModelling using weighted averaging of the previous models.')\n",
    "optimal_weights = blending.optimize_weighted_average()\n",
    "print('\\nOptimal weights: ', optimal_weights)"
   ]
  }
 ],
 "metadata": {
  "kernelspec": {
   "display_name": "Python 3",
   "language": "python",
   "name": "python3"
  },
  "language_info": {
   "codemirror_mode": {
    "name": "ipython",
    "version": 3
   },
   "file_extension": ".py",
   "mimetype": "text/x-python",
   "name": "python",
   "nbconvert_exporter": "python",
   "pygments_lexer": "ipython3",
   "version": "3.6.5"
  }
 },
 "nbformat": 4,
 "nbformat_minor": 2
}
