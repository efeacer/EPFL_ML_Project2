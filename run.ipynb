{
 "cells": [
  {
   "cell_type": "markdown",
   "metadata": {},
   "source": [
    "## Creating the Final Submission"
   ]
  },
  {
   "cell_type": "code",
   "execution_count": 1,
   "metadata": {},
   "outputs": [],
   "source": [
    "%load_ext autoreload\n",
    "%autoreload 2"
   ]
  },
  {
   "cell_type": "markdown",
   "metadata": {},
   "source": [
    "Necessary imports:"
   ]
  },
  {
   "cell_type": "code",
   "execution_count": 16,
   "metadata": {},
   "outputs": [],
   "source": [
    "import numpy as np\n",
    "from baselines import Baselines\n",
    "from MF_SGD import MF_SGD\n",
    "from MF_BSGD import MF_BSGD\n",
    "from MF_ALS import MF_ALS\n",
    "from surprise_models import SurpriseModels\n",
    "from blending import Blending\n",
    "from data import Data\n",
    "from data_processing import create_submission"
   ]
  },
  {
   "cell_type": "markdown",
   "metadata": {},
   "source": [
    "Specify the submission filename."
   ]
  },
  {
   "cell_type": "code",
   "execution_count": 3,
   "metadata": {},
   "outputs": [],
   "source": [
    "PREDICTIONS_FILENAME = 'Datasets/mixed_model.csv'"
   ]
  },
  {
   "cell_type": "markdown",
   "metadata": {},
   "source": [
    "Optimal Weights obtained by executing 'run_blending'."
   ]
  },
  {
   "cell_type": "code",
   "execution_count": 4,
   "metadata": {},
   "outputs": [],
   "source": [
    "OPTIMAL_WEIGHTS = {'baseline_global_mean': 0.28820931,\n",
    "                   'baseline_user_mean': -0.31216191,\n",
    "                   'baseline_item_mean': -0.16738859,\n",
    "                   'mf_sgd': -0.37163926,\n",
    "                   'mf_bsgd': 0.53760117, \n",
    "                   'mf_als': 0.69963825,\n",
    "                   'surprise_kNN_baseline_user': 0.0310014,\n",
    "                   'surprise_kNN_baseline_item': 0.40249769,\n",
    "                   'surprise_slope_one': -0.14927565,\n",
    "                   'surprise_co_clustering': 0.04481663}"
   ]
  },
  {
   "cell_type": "markdown",
   "metadata": {},
   "source": [
    "Set the random seed to be able to reproduce the results."
   ]
  },
  {
   "cell_type": "code",
   "execution_count": 5,
   "metadata": {},
   "outputs": [],
   "source": [
    "np.random.seed(98)"
   ]
  },
  {
   "cell_type": "markdown",
   "metadata": {},
   "source": [
    "Load and prepare data."
   ]
  },
  {
   "cell_type": "code",
   "execution_count": 6,
   "metadata": {},
   "outputs": [
    {
     "name": "stdout",
     "output_type": "stream",
     "text": [
      "Preparing data ...\n",
      "... data is prepared.\n"
     ]
    }
   ],
   "source": [
    "data = Data()"
   ]
  },
  {
   "cell_type": "markdown",
   "metadata": {},
   "source": [
    "Dictionary for the models to blend:"
   ]
  },
  {
   "cell_type": "code",
   "execution_count": 7,
   "metadata": {},
   "outputs": [],
   "source": [
    "models = {'baseline_global_mean': None,\n",
    "          'baseline_user_mean': None,\n",
    "          'baseline_item_mean': None,\n",
    "          'mf_sgd': None,\n",
    "          'mf_bsgd': None, \n",
    "          'mf_als': None,\n",
    "          'surprise_kNN_baseline_user': None,\n",
    "          'surprise_kNN_baseline_item': None,\n",
    "#          'surprise_SVD': None,\n",
    "#          'surprise_SVDpp': None,\n",
    "          'surprise_slope_one': None,\n",
    "          'surprise_co_clustering': None}"
   ]
  },
  {
   "cell_type": "markdown",
   "metadata": {},
   "source": [
    "Run Baseline models."
   ]
  },
  {
   "cell_type": "code",
   "execution_count": 8,
   "metadata": {},
   "outputs": [
    {
     "name": "stdout",
     "output_type": "stream",
     "text": [
      "\n",
      "Modelling using baseline_global_mean ...\n",
      "... done\n",
      "\n",
      "Modelling using baseline_user_mean ...\n",
      "... done\n",
      "\n",
      "Modelling using baseline_movie_mean ...\n",
      "... done\n"
     ]
    }
   ],
   "source": [
    "baselines = Baselines(data=data)\n",
    "\n",
    "print('\\nModelling using baseline_global_mean ...')\n",
    "models['baseline_global_mean'] = baselines.baseline_global_mean()['Rating']\n",
    "print('... done')\n",
    "\n",
    "print('\\nModelling using baseline_user_mean ...')\n",
    "models['baseline_user_mean'] = baselines.baseline_user_mean()['Rating']\n",
    "print('... done')\n",
    "\n",
    "print('\\nModelling using baseline_movie_mean ...')\n",
    "models['baseline_item_mean'] = baselines.baseline_item_mean()['Rating']\n",
    "print('... done')"
   ]
  },
  {
   "cell_type": "markdown",
   "metadata": {},
   "source": [
    "Run Matrix Factorization model trained using Stochastic Gradient Descent."
   ]
  },
  {
   "cell_type": "code",
   "execution_count": 9,
   "metadata": {},
   "outputs": [
    {
     "name": "stdout",
     "output_type": "stream",
     "text": [
      "\n",
      "Modelling using MF_SGD ...\n",
      "Learning the matrix factorization using SGD ...\n",
      "Iteration: 1, RMSE on training set: 1.0265579188730012\n",
      "Iteration: 2, RMSE on training set: 1.0183056651348181\n",
      "Iteration: 3, RMSE on training set: 1.0132537729687723\n",
      "Iteration: 4, RMSE on training set: 1.0086805828473377\n",
      "Iteration: 5, RMSE on training set: 1.0043132752072519\n",
      "Iteration: 6, RMSE on training set: 1.000359783627168\n",
      "Iteration: 7, RMSE on training set: 0.9968568126457051\n",
      "Iteration: 8, RMSE on training set: 0.9946566136405358\n",
      "Iteration: 9, RMSE on training set: 0.9933340780944223\n",
      "Iteration: 10, RMSE on training set: 0.9917155302498281\n",
      "Iteration: 11, RMSE on training set: 0.9904644182505771\n",
      "Iteration: 12, RMSE on training set: 0.9893631717853739\n",
      "Iteration: 13, RMSE on training set: 0.9885388029827337\n",
      "Iteration: 14, RMSE on training set: 0.987459642154001\n",
      "Iteration: 15, RMSE on training set: 0.9870409560211364\n",
      "Iteration: 16, RMSE on training set: 0.986733771931125\n",
      "Iteration: 17, RMSE on training set: 0.9864803286734988\n",
      "Iteration: 18, RMSE on training set: 0.9864405515192809\n",
      "The training process converged to a threshold.\n",
      "... Final RMSE on training set: 0.9864405515192809\n",
      "... done\n"
     ]
    }
   ],
   "source": [
    "mf_sgd = MF_SGD(data=data)\n",
    "\n",
    "print('\\nModelling using MF_SGD ...')\n",
    "models['mf_sgd'] = mf_sgd.train()['Rating']\n",
    "print('... done')"
   ]
  },
  {
   "cell_type": "markdown",
   "metadata": {},
   "source": [
    "Run Matrix Factorization model trained using Biased Stochastic Gradient Descent."
   ]
  },
  {
   "cell_type": "code",
   "execution_count": 11,
   "metadata": {},
   "outputs": [
    {
     "name": "stdout",
     "output_type": "stream",
     "text": [
      "\n",
      "Modelling using MF_BSGD ...\n",
      "Learning the matrix factorization using BSGD ...\n",
      "Iteration: 1, RMSE on training set: 1.0026322512864938\n",
      "Iteration: 2, RMSE on training set: 0.9917765062433125\n",
      "Iteration: 3, RMSE on training set: 0.9867211386835338\n",
      "Iteration: 4, RMSE on training set: 0.9834624799152446\n",
      "Iteration: 5, RMSE on training set: 0.9816633291634889\n",
      "Iteration: 6, RMSE on training set: 0.9794501686133932\n",
      "Iteration: 7, RMSE on training set: 0.9783328865668891\n",
      "Iteration: 8, RMSE on training set: 0.9777147633288329\n",
      "Iteration: 9, RMSE on training set: 0.9770741347246457\n",
      "Iteration: 10, RMSE on training set: 0.9767442643434102\n",
      "Iteration: 11, RMSE on training set: 0.9761237873706873\n",
      "Iteration: 12, RMSE on training set: 0.9758548831059652\n",
      "Iteration: 13, RMSE on training set: 0.9755479256706967\n",
      "Iteration: 14, RMSE on training set: 0.9753860658310906\n",
      "Iteration: 15, RMSE on training set: 0.9751767077630397\n",
      "Iteration: 16, RMSE on training set: 0.9750044375839366\n",
      "Iteration: 17, RMSE on training set: 0.9749071323371781\n",
      "The training process converged to a threshold.\n",
      "... Final RMSE on training set: 0.9749071323371781\n",
      "... done\n"
     ]
    }
   ],
   "source": [
    "mf_bsgd = MF_BSGD(data=data)\n",
    "\n",
    "print('\\nModelling using MF_BSGD ...')\n",
    "models['mf_bsgd'] = mf_bsgd.train()['Rating']\n",
    "print('... done')"
   ]
  },
  {
   "cell_type": "markdown",
   "metadata": {},
   "source": [
    "Run Matrix Factorization model trained using Alternating Least Squares."
   ]
  },
  {
   "cell_type": "code",
   "execution_count": 12,
   "metadata": {},
   "outputs": [
    {
     "name": "stdout",
     "output_type": "stream",
     "text": [
      "\n",
      "Modelling using MF_ALS ...\n",
      "Learning the matrix factorization using ALS ...\n",
      "Iteration: 1, RMSE on training set: 0.9880231575079736\n",
      "Iteration: 2, RMSE on training set: 0.9729650626533639\n",
      "Iteration: 3, RMSE on training set: 0.9595814978734437\n",
      "Iteration: 4, RMSE on training set: 0.951076795621786\n",
      "Iteration: 5, RMSE on training set: 0.9467530176454012\n",
      "Iteration: 6, RMSE on training set: 0.9445485280769137\n",
      "Iteration: 7, RMSE on training set: 0.9433081405808821\n",
      "Iteration: 8, RMSE on training set: 0.9425163726458278\n",
      "Iteration: 9, RMSE on training set: 0.9419548022044056\n",
      "Iteration: 10, RMSE on training set: 0.9415278645671546\n",
      "Iteration: 11, RMSE on training set: 0.9411937730322201\n",
      "Iteration: 12, RMSE on training set: 0.9409337174138136\n",
      "Iteration: 13, RMSE on training set: 0.9407363924115948\n",
      "Iteration: 14, RMSE on training set: 0.9405915259899267\n",
      "Iteration: 15, RMSE on training set: 0.9404886954350787\n",
      "Iteration: 16, RMSE on training set: 0.940418104893749\n",
      "The training process converged to a threshold.\n",
      "... Final RMSE on training set: 0.940418104893749\n",
      "... done\n"
     ]
    }
   ],
   "source": [
    "mf_als = MF_ALS(data=data)\n",
    "\n",
    "print('\\nModelling using MF_ALS ...')\n",
    "models['mf_als'] = mf_als.train()['Rating']\n",
    "print('... done')"
   ]
  },
  {
   "cell_type": "markdown",
   "metadata": {},
   "source": [
    "Run Models from Surprise Library."
   ]
  },
  {
   "cell_type": "code",
   "execution_count": 13,
   "metadata": {},
   "outputs": [
    {
     "name": "stdout",
     "output_type": "stream",
     "text": [
      "\n",
      "Modelling using user based Surprise kNN Baseline ...\n",
      "Computing the cosine similarity matrix...\n",
      "Done computing similarity matrix.\n",
      "... done\n",
      "\n",
      "Modelling using item based Surprise kNN Baseline ...\n",
      "Computing the pearson_baseline similarity matrix...\n",
      "Done computing similarity matrix.\n",
      "... done\n",
      "\n",
      "Modelling using Surprise SlopeOne ...\n",
      "... done\n",
      "\n",
      "Modelling using Surprise Co-Clustering ...\n",
      "... done\n"
     ]
    }
   ],
   "source": [
    "surprise_models = SurpriseModels(data=data)\n",
    "\n",
    "print('\\nModelling using user based Surprise kNN Baseline ...')\n",
    "models['surprise_kNN_baseline_user'] = surprise_models.kNN_baseline(k=150, \n",
    "                                                                    sim_options={'name': 'cosine', \n",
    "                                                                                 'user_based': True})['Rating']\n",
    "print('... done')\n",
    "\n",
    "print('\\nModelling using item based Surprise kNN Baseline ...')\n",
    "models['surprise_kNN_baseline_item'] = surprise_models.kNN_baseline(k=150, \n",
    "                                                                    sim_options={'name': 'pearson_baseline',\n",
    "                                                                                 'user_based': False})['Rating']\n",
    "print('... done')\n",
    "\n",
    "print('\\nModelling using Surprise SlopeOne ...')\n",
    "models['surprise_slope_one'] = surprise_models.slope_one()['Rating']\n",
    "print('... done')\n",
    "\n",
    "#print('\\nModelling using Surprise SVD ...')\n",
    "#models['surprise_SVD'] = surprise_models.SVD()['Rating']\n",
    "#print('... done')\n",
    "\n",
    "#print('\\nModelling using Surprise SVD++ ...')\n",
    "#models['surprise_SVDpp'] = surprise_models.SVDpp()['Rating']\n",
    "#print('... done')\n",
    "\n",
    "print('\\nModelling using Surprise Co-Clustering ...')\n",
    "models['surprise_co_clustering'] = surprise_models.co_clustering()['Rating']\n",
    "print('... done')"
   ]
  },
  {
   "cell_type": "markdown",
   "metadata": {},
   "source": [
    "Create the blended (combined) model."
   ]
  },
  {
   "cell_type": "code",
   "execution_count": 14,
   "metadata": {},
   "outputs": [
    {
     "name": "stdout",
     "output_type": "stream",
     "text": [
      "\n",
      "Modelling using weighted averaging of the previous models ...\n",
      "... done\n"
     ]
    }
   ],
   "source": [
    "blending = Blending(models, data.test_df['Rating'], OPTIMAL_WEIGHTS)\n",
    "\n",
    "print('\\nModelling using weighted averaging of the previous models ...')\n",
    "mixed_model = blending.get_weighted_average()\n",
    "print('... done')"
   ]
  },
  {
   "cell_type": "markdown",
   "metadata": {},
   "source": [
    "Create the submissiom csv file."
   ]
  },
  {
   "cell_type": "code",
   "execution_count": 17,
   "metadata": {},
   "outputs": [
    {
     "name": "stdout",
     "output_type": "stream",
     "text": [
      "\n",
      "Creating mixed_model.csv ...\n",
      "... mixed_model.csv created.\n"
     ]
    }
   ],
   "source": [
    "data.test_df['Rating'] = mixed_model\n",
    "print('\\nCreating mixed_model.csv ...')\n",
    "create_submission(data.test_df, PREDICTIONS_FILENAME)\n",
    "print('... mixed_model.csv created.')"
   ]
  }
 ],
 "metadata": {
  "kernelspec": {
   "display_name": "Python 3",
   "language": "python",
   "name": "python3"
  },
  "language_info": {
   "codemirror_mode": {
    "name": "ipython",
    "version": 3
   },
   "file_extension": ".py",
   "mimetype": "text/x-python",
   "name": "python",
   "nbconvert_exporter": "python",
   "pygments_lexer": "ipython3",
   "version": "3.6.5"
  }
 },
 "nbformat": 4,
 "nbformat_minor": 2
}
