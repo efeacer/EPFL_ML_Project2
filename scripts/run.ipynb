{
 "cells": [
  {
   "cell_type": "markdown",
   "metadata": {},
   "source": [
    "## Creating the Final Submission"
   ]
  },
  {
   "cell_type": "code",
   "execution_count": 1,
   "metadata": {},
   "outputs": [],
   "source": [
    "%load_ext autoreload\n",
    "%autoreload 2"
   ]
  },
  {
   "cell_type": "markdown",
   "metadata": {},
   "source": [
    "Necessary imports:"
   ]
  },
  {
   "cell_type": "code",
   "execution_count": 2,
   "metadata": {},
   "outputs": [],
   "source": [
    "import numpy as np\n",
    "from baselines import Baselines\n",
    "from MF_SGD import MF_SGD\n",
    "from MF_BSGD import MF_BSGD\n",
    "from MF_ALS import MF_ALS\n",
    "from surprise_models import SurpriseModels\n",
    "from blending import Blending\n",
    "from data import Data\n",
    "from data_processing import create_submission"
   ]
  },
  {
   "cell_type": "markdown",
   "metadata": {},
   "source": [
    "Specify the submission filename."
   ]
  },
  {
   "cell_type": "code",
   "execution_count": 3,
   "metadata": {},
   "outputs": [],
   "source": [
    "PREDICTIONS_FILENAME = 'Datasets/mixed_model_with_median.csv'"
   ]
  },
  {
   "cell_type": "markdown",
   "metadata": {},
   "source": [
    "Optimal Weights obtained by executing 'run_blending'."
   ]
  },
  {
   "cell_type": "code",
   "execution_count": 4,
   "metadata": {},
   "outputs": [],
   "source": [
    "OPTIMAL_WEIGHTS = {'baseline_global_mean': 0.19271591983375924, \n",
    "                   'baseline_user_mean': -0.4337299003053698, \n",
    "                   'baseline_item_mean': -0.2985150084211989, \n",
    "                   'baseline_global_median': 0.1970668001493541, \n",
    "                   'baseline_user_median': 0.015201139195270304, \n",
    "                   'baseline_item_median': -0.0018982199858547794, \n",
    "                   'mf_sgd': -0.17923491952957243, \n",
    "                   'mf_bsgd': 0.34524178921797943, \n",
    "                   'mf_als': 0.7335166340482717, \n",
    "                   'surprise_kNN_baseline_user': 0.2586850797696792, \n",
    "                   'surprise_kNN_baseline_item': 0.35244287155037823,\n",
    "#                   'surprise_SVD': None,\n",
    "#                   'surprise_SVDpp': None,\n",
    "                   'surprise_slope_one': -0.1812668620103521, \n",
    "                   'surprise_co_clustering': -0.0005493596729955596}"
   ]
  },
  {
   "cell_type": "markdown",
   "metadata": {},
   "source": [
    "Set the random seed to be able to reproduce the results."
   ]
  },
  {
   "cell_type": "code",
   "execution_count": 5,
   "metadata": {},
   "outputs": [],
   "source": [
    "np.random.seed(98)"
   ]
  },
  {
   "cell_type": "markdown",
   "metadata": {},
   "source": [
    "Load and prepare data."
   ]
  },
  {
   "cell_type": "code",
   "execution_count": 6,
   "metadata": {},
   "outputs": [
    {
     "name": "stdout",
     "output_type": "stream",
     "text": [
      "Preparing data ...\n",
      "... data is prepared.\n"
     ]
    }
   ],
   "source": [
    "data = Data()"
   ]
  },
  {
   "cell_type": "markdown",
   "metadata": {},
   "source": [
    "Dictionary for the models to blend:"
   ]
  },
  {
   "cell_type": "code",
   "execution_count": 7,
   "metadata": {},
   "outputs": [],
   "source": [
    "models = {}"
   ]
  },
  {
   "cell_type": "markdown",
   "metadata": {},
   "source": [
    "Run Baseline models."
   ]
  },
  {
   "cell_type": "code",
   "execution_count": 8,
   "metadata": {},
   "outputs": [
    {
     "name": "stdout",
     "output_type": "stream",
     "text": [
      "\n",
      "Modelling using baseline_global_mean ...\n",
      "... done\n",
      "\n",
      "Modelling using baseline_user_mean ...\n",
      "... done\n",
      "\n",
      "Modelling using baseline_movie_mean ...\n",
      "... done\n",
      "\n",
      "Modelling using baseline_global_median ...\n",
      "... done\n",
      "\n",
      "Modelling using baseline_user_median ...\n",
      "... done\n",
      "\n",
      "Modelling using baseline_movie_median ...\n",
      "... done\n"
     ]
    }
   ],
   "source": [
    "baselines = Baselines(data=data)\n",
    "\n",
    "print('\\nModelling using baseline_global_mean ...')\n",
    "models['baseline_global_mean'] = baselines.baseline_global_mean()['Rating']\n",
    "print('... done')\n",
    "\n",
    "print('\\nModelling using baseline_user_mean ...')\n",
    "models['baseline_user_mean'] = baselines.baseline_user_mean()['Rating']\n",
    "print('... done')\n",
    "\n",
    "print('\\nModelling using baseline_movie_mean ...')\n",
    "models['baseline_item_mean'] = baselines.baseline_item_mean()['Rating']\n",
    "print('... done')\n",
    "\n",
    "print('\\nModelling using baseline_global_median ...')\n",
    "models['baseline_global_median'] = baselines.baseline_global_median()['Rating']\n",
    "print('... done')\n",
    "\n",
    "print('\\nModelling using baseline_user_median ...')\n",
    "models['baseline_user_median'] = baselines.baseline_user_median()['Rating']\n",
    "print('... done')\n",
    "\n",
    "print('\\nModelling using baseline_movie_median ...')\n",
    "models['baseline_item_median'] = baselines.baseline_item_median()['Rating']\n",
    "print('... done')"
   ]
  },
  {
   "cell_type": "markdown",
   "metadata": {},
   "source": [
    "Run Matrix Factorization model trained using Stochastic Gradient Descent."
   ]
  },
  {
   "cell_type": "code",
   "execution_count": 9,
   "metadata": {},
   "outputs": [
    {
     "name": "stdout",
     "output_type": "stream",
     "text": [
      "\n",
      "Modelling using MF_SGD ...\n",
      "Learning the matrix factorization using SGD ...\n",
      "Iteration: 1, RMSE on training set: 1.0166969847476204\n",
      "Iteration: 2, RMSE on training set: 1.0078950940534885\n",
      "Iteration: 3, RMSE on training set: 1.0024668456228236\n",
      "Iteration: 4, RMSE on training set: 0.9979098961745829\n",
      "Iteration: 5, RMSE on training set: 0.9932903188031309\n",
      "Iteration: 6, RMSE on training set: 0.9894890461812211\n",
      "Iteration: 7, RMSE on training set: 0.9858652627655524\n",
      "Iteration: 8, RMSE on training set: 0.9834909977858932\n",
      "Iteration: 9, RMSE on training set: 0.9818735595145989\n",
      "Iteration: 10, RMSE on training set: 0.9801002466983799\n",
      "Iteration: 11, RMSE on training set: 0.9785933644363982\n",
      "Iteration: 12, RMSE on training set: 0.977309942743755\n",
      "Iteration: 13, RMSE on training set: 0.9763630897813994\n",
      "Iteration: 14, RMSE on training set: 0.9753362850887657\n",
      "Iteration: 15, RMSE on training set: 0.9747343771798103\n",
      "Iteration: 16, RMSE on training set: 0.974258696324112\n",
      "Iteration: 17, RMSE on training set: 0.9738875589453878\n",
      "Iteration: 18, RMSE on training set: 0.9736326337831119\n",
      "Iteration: 19, RMSE on training set: 0.973138334756293\n",
      "Iteration: 20, RMSE on training set: 0.972973477447123\n",
      "... Final RMSE on training set: 0.972973477447123\n",
      "... done\n"
     ]
    }
   ],
   "source": [
    "mf_sgd = MF_SGD(data=data)\n",
    "\n",
    "print('\\nModelling using MF_SGD ...')\n",
    "models['mf_sgd'] = mf_sgd.train()['Rating']\n",
    "print('... done')"
   ]
  },
  {
   "cell_type": "markdown",
   "metadata": {},
   "source": [
    "Run Matrix Factorization model trained using Biased Stochastic Gradient Descent."
   ]
  },
  {
   "cell_type": "code",
   "execution_count": 10,
   "metadata": {},
   "outputs": [
    {
     "name": "stdout",
     "output_type": "stream",
     "text": [
      "\n",
      "Modelling using MF_BSGD ...\n",
      "Learning the matrix factorization using BSGD ...\n",
      "Iteration: 1, RMSE on training set: 1.003379578207212\n",
      "Iteration: 2, RMSE on training set: 0.9919184290095188\n",
      "Iteration: 3, RMSE on training set: 0.9842087930510309\n",
      "Iteration: 4, RMSE on training set: 0.9797450225688004\n",
      "Iteration: 5, RMSE on training set: 0.9770151336652192\n",
      "Iteration: 6, RMSE on training set: 0.9744641793239239\n",
      "Iteration: 7, RMSE on training set: 0.9725183722210042\n",
      "Iteration: 8, RMSE on training set: 0.97106812342965\n",
      "Iteration: 9, RMSE on training set: 0.9697783100895455\n",
      "Iteration: 10, RMSE on training set: 0.9687095644419902\n",
      "Iteration: 11, RMSE on training set: 0.9678661222401186\n",
      "Iteration: 12, RMSE on training set: 0.9671183385726674\n",
      "Iteration: 13, RMSE on training set: 0.9663945889625084\n",
      "Iteration: 14, RMSE on training set: 0.9660136898404293\n",
      "Iteration: 15, RMSE on training set: 0.9655585917239524\n",
      "Iteration: 16, RMSE on training set: 0.9652041146053583\n",
      "Iteration: 17, RMSE on training set: 0.9649139722041061\n",
      "Iteration: 18, RMSE on training set: 0.9647025054981204\n",
      "Iteration: 19, RMSE on training set: 0.9645142133720991\n",
      "Iteration: 20, RMSE on training set: 0.9643481939906142\n",
      "... Final RMSE on training set: 0.9643481939906142\n",
      "... done\n"
     ]
    }
   ],
   "source": [
    "mf_bsgd = MF_BSGD(data=data)\n",
    "\n",
    "print('\\nModelling using MF_BSGD ...')\n",
    "models['mf_bsgd'] = mf_bsgd.train()['Rating']\n",
    "print('... done')"
   ]
  },
  {
   "cell_type": "markdown",
   "metadata": {},
   "source": [
    "Run Matrix Factorization model trained using Alternating Least Squares."
   ]
  },
  {
   "cell_type": "code",
   "execution_count": 11,
   "metadata": {},
   "outputs": [
    {
     "name": "stdout",
     "output_type": "stream",
     "text": [
      "\n",
      "Modelling using MF_ALS ...\n",
      "Learning the matrix factorization using ALS ...\n",
      "Iteration: 1, RMSE on training set: 0.9851661526276353\n",
      "Iteration: 2, RMSE on training set: 0.9729761747745292\n",
      "Iteration: 3, RMSE on training set: 0.9593760194193154\n",
      "Iteration: 4, RMSE on training set: 0.9508124266451606\n",
      "Iteration: 5, RMSE on training set: 0.9467193552466387\n",
      "Iteration: 6, RMSE on training set: 0.9445146732631728\n",
      "Iteration: 7, RMSE on training set: 0.9431822148388905\n",
      "Iteration: 8, RMSE on training set: 0.942313112757796\n",
      "Iteration: 9, RMSE on training set: 0.9417241856325538\n",
      "Iteration: 10, RMSE on training set: 0.9413201368876003\n",
      "Iteration: 11, RMSE on training set: 0.9410432464459695\n",
      "Iteration: 12, RMSE on training set: 0.9408547030260581\n",
      "Iteration: 13, RMSE on training set: 0.9407271238901533\n",
      "Iteration: 14, RMSE on training set: 0.9406409959858569\n",
      "Iteration: 15, RMSE on training set: 0.9405825359150393\n",
      "Iteration: 16, RMSE on training set: 0.9405421472526104\n",
      "Iteration: 17, RMSE on training set: 0.9405132425934448\n",
      "Iteration: 18, RMSE on training set: 0.9404913707844461\n",
      "Iteration: 19, RMSE on training set: 0.940473605578969\n",
      "Iteration: 20, RMSE on training set: 0.9404581231926171\n",
      "Iteration: 21, RMSE on training set: 0.9404438811848382\n",
      "Iteration: 22, RMSE on training set: 0.9404303543300964\n",
      "Iteration: 23, RMSE on training set: 0.9404173408736136\n",
      "Iteration: 24, RMSE on training set: 0.9404048411167878\n",
      "... Final RMSE on training set: 0.9404048411167878\n",
      "... done\n"
     ]
    }
   ],
   "source": [
    "mf_als = MF_ALS(data=data)\n",
    "\n",
    "print('\\nModelling using MF_ALS ...')\n",
    "models['mf_als'] = mf_als.train()['Rating']\n",
    "print('... done')"
   ]
  },
  {
   "cell_type": "markdown",
   "metadata": {},
   "source": [
    "Run Models from Surprise Library."
   ]
  },
  {
   "cell_type": "code",
   "execution_count": 12,
   "metadata": {},
   "outputs": [],
   "source": [
    "surprise_models = SurpriseModels(data=data)"
   ]
  },
  {
   "cell_type": "markdown",
   "metadata": {},
   "source": [
    "Run neighborhood models from Surprise Library."
   ]
  },
  {
   "cell_type": "code",
   "execution_count": 13,
   "metadata": {},
   "outputs": [
    {
     "name": "stdout",
     "output_type": "stream",
     "text": [
      "\n",
      "Modelling using user based Surprise kNN Baseline ...\n",
      "Computing the pearson_baseline similarity matrix...\n",
      "Done computing similarity matrix.\n",
      "... done\n",
      "\n",
      "Modelling using item based Surprise kNN Baseline ...\n",
      "Computing the pearson_baseline similarity matrix...\n",
      "Done computing similarity matrix.\n",
      "... done\n"
     ]
    }
   ],
   "source": [
    "print('\\nModelling using user based Surprise kNN Baseline ...')\n",
    "models['surprise_kNN_baseline_user'] = surprise_models.kNN_baseline(k=100, \n",
    "                                                                    sim_options={'name': 'pearson_baseline', \n",
    "                                                                                 'user_based': True})['Rating']\n",
    "print('... done')\n",
    "\n",
    "print('\\nModelling using item based Surprise kNN Baseline ...')\n",
    "models['surprise_kNN_baseline_item'] = surprise_models.kNN_baseline(k=300, \n",
    "                                                                    sim_options={'name': 'pearson_baseline',\n",
    "                                                                                 'user_based': False})['Rating']\n",
    "print('... done')"
   ]
  },
  {
   "cell_type": "markdown",
   "metadata": {},
   "source": [
    "Run two more simpler models from Surprise."
   ]
  },
  {
   "cell_type": "code",
   "execution_count": 14,
   "metadata": {},
   "outputs": [
    {
     "name": "stdout",
     "output_type": "stream",
     "text": [
      "\n",
      "Modelling using Surprise SlopeOne ...\n",
      "... done\n",
      "\n",
      "Modelling using Surprise Co-Clustering ...\n",
      "... done\n"
     ]
    }
   ],
   "source": [
    "print('\\nModelling using Surprise SlopeOne ...')\n",
    "models['surprise_slope_one'] = surprise_models.slope_one()['Rating']\n",
    "print('... done')\n",
    "\n",
    "#print('\\nModelling using Surprise SVD ...')\n",
    "#models['surprise_SVD'] = surprise_models.SVD()['Rating']\n",
    "#print('... done')\n",
    "\n",
    "#print('\\nModelling using Surprise SVD++ ...')\n",
    "#models['surprise_SVDpp'] = surprise_models.SVDpp()['Rating']\n",
    "#print('... done')\n",
    "\n",
    "print('\\nModelling using Surprise Co-Clustering ...')\n",
    "models['surprise_co_clustering'] = surprise_models.co_clustering()['Rating']\n",
    "print('... done')"
   ]
  },
  {
   "cell_type": "markdown",
   "metadata": {},
   "source": [
    "Create the blended (combined) model."
   ]
  },
  {
   "cell_type": "code",
   "execution_count": 15,
   "metadata": {},
   "outputs": [
    {
     "name": "stdout",
     "output_type": "stream",
     "text": [
      "\n",
      "Modelling using weighted averaging of the previous models ...\n",
      "... done\n"
     ]
    }
   ],
   "source": [
    "blending = Blending(models, data.test_df['Rating'], OPTIMAL_WEIGHTS)\n",
    "\n",
    "print('\\nModelling using weighted averaging of the previous models ...')\n",
    "mixed_model = blending.get_weighted_average()\n",
    "print('... done')"
   ]
  },
  {
   "cell_type": "markdown",
   "metadata": {},
   "source": [
    "Create the submission csv file."
   ]
  },
  {
   "cell_type": "code",
   "execution_count": 16,
   "metadata": {},
   "outputs": [
    {
     "name": "stdout",
     "output_type": "stream",
     "text": [
      "\n",
      "Creating mixed_model.csv ...\n",
      "... mixed_model.csv created.\n"
     ]
    }
   ],
   "source": [
    "data.test_df['Rating'] = mixed_model\n",
    "print('\\nCreating mixed_model.csv ...')\n",
    "create_submission(data.test_df, PREDICTIONS_FILENAME)\n",
    "print('... mixed_model.csv created.')"
   ]
  }
 ],
 "metadata": {
  "kernelspec": {
   "display_name": "Python 3",
   "language": "python",
   "name": "python3"
  },
  "language_info": {
   "codemirror_mode": {
    "name": "ipython",
    "version": 3
   },
   "file_extension": ".py",
   "mimetype": "text/x-python",
   "name": "python",
   "nbconvert_exporter": "python",
   "pygments_lexer": "ipython3",
   "version": "3.6.5"
  }
 },
 "nbformat": 4,
 "nbformat_minor": 2
}
